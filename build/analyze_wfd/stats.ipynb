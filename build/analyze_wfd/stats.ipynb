{
 "cells": [
  {
   "cell_type": "code",
   "execution_count": null,
   "metadata": {},
   "outputs": [],
   "source": [
    "import json\n",
    "from build.config import STORAGE_FOLDER\n",
    "import os.path as osp \n",
    "\n",
    "with open(osp.join(STORAGE_FOLDER,'wikifactdiff.jsonl')) as f:\n",
    "    wfd = [json.loads(x) for x in f]"
   ]
  },
  {
   "cell_type": "code",
   "execution_count": null,
   "metadata": {},
   "outputs": [],
   "source": [
    "from collections import Counter\n",
    "def print_stats(dataset):\n",
    "    n_triples = sum(len(x['objects']) for x in dataset)\n",
    "    n_subjects = len(set(x['subject']['id'] for x in dataset))\n",
    "    n_relations = len(set(x['relation']['id'] for x in dataset))\n",
    "    def get_id(y, force_id=False):\n",
    "        d = y.get('id', None)\n",
    "        if d is not None or force_id:\n",
    "            return d\n",
    "        return y['label']\n",
    "    n_objects = len(set(get_id(y) for x in dataset for y in x['objects']))\n",
    "    n_entity_objects = len(set(get_id(y, force_id=True) for x in dataset for y in x['objects'] if get_id(y, force_id=True)))\n",
    "    n_literal_objects = n_objects - n_entity_objects\n",
    "\n",
    "    n_updates = len(dataset)\n",
    "    def is_replace(x):\n",
    "        c = Counter(y['decision'] for y in x['objects'])\n",
    "        return c.total() == 2 and c['learn'] == c[\"forget\"] == 1\n",
    "    n_replacement = sum(is_replace(x) for x in dataset)\n",
    "    n_entity_insertion = sum(x['subject_is_ph_new'] for x in dataset)\n",
    "    def is_oblivion(x):\n",
    "        c = Counter(y['decision'] for y in x['objects'])\n",
    "        return c.total() == 1 and c[\"forget\"] == 1\n",
    "    n_oblivion = sum(is_oblivion(x) for x in dataset)\n",
    "    def is_addnewinfo(x):\n",
    "        if x['subject_is_ph_new']:\n",
    "            return False\n",
    "        c = Counter(y['decision'] for y in x['objects'])\n",
    "        return c[\"learn\"] > 0 and c['forget'] == 0 and c['keep'] == 0\n",
    "    n_addnewinfo = sum(is_addnewinfo(x) for x in dataset)\n",
    "    def is_addinfo(x):\n",
    "        c = Counter(y['decision'] for y in x['objects'])\n",
    "        return c[\"learn\"] > 0 and c['forget'] == 0 and c['keep'] > 0\n",
    "    n_addinfo = sum(is_addinfo(x) for x in dataset)\n",
    "    n_other = n_updates - n_replacement - n_entity_insertion - n_oblivion - n_addinfo - n_addnewinfo\n",
    "    s = \"\"\"\n",
    "    Triples = %s\n",
    "    Subjects = %s\n",
    "    Relations = %s\n",
    "    Objects = %s\n",
    "    Entity objects = %s\n",
    "    Literal objects = %s\n",
    "    ===============================================\n",
    "    Updates = %s \n",
    "    Replacements = %s \n",
    "    EntityInsertion = %s \n",
    "    Oblivion = %s \n",
    "    AddNewInfo = %s \n",
    "    AddInfo = %s \n",
    "    Others = %s\n",
    "    \"\"\" % (n_triples, n_subjects, n_relations, n_objects, n_entity_objects, n_literal_objects, n_updates, n_replacement, n_entity_insertion, n_oblivion,\n",
    "        n_addnewinfo, n_addinfo, n_other)\n",
    "    print(s)"
   ]
  },
  {
   "cell_type": "code",
   "execution_count": null,
   "metadata": {},
   "outputs": [],
   "source": [
    "print_stats(wfd)"
   ]
  },
  {
   "cell_type": "code",
   "execution_count": null,
   "metadata": {},
   "outputs": [],
   "source": [
    "# Sample replacements\n",
    "count = 0\n",
    "for x in wfd:\n",
    "    if not x['is_replace']:\n",
    "        continue\n",
    "    o = x['objects']\n",
    "    o.sort(key=lambda y : y['decision'])\n",
    "    forget, learn = o\n",
    "    print(\"(%s, %s, -%s, +%s)\" % (x['subject']['label'], x['relation']['label'], forget['label'], learn['label']))\n",
    "    count += 1\n",
    "    if count > 200:\n",
    "        break"
   ]
  },
  {
   "cell_type": "code",
   "execution_count": null,
   "metadata": {},
   "outputs": [],
   "source": [
    "wfd_repl = [x for x in wfd if x['is_replace']]"
   ]
  },
  {
   "cell_type": "code",
   "execution_count": null,
   "metadata": {},
   "outputs": [],
   "source": [
    "print_stats(wfd_repl)"
   ]
  }
 ],
 "metadata": {
  "kernelspec": {
   "display_name": "wfd_build",
   "language": "python",
   "name": "python3"
  },
  "language_info": {
   "codemirror_mode": {
    "name": "ipython",
    "version": 3
   },
   "file_extension": ".py",
   "mimetype": "text/x-python",
   "name": "python",
   "nbconvert_exporter": "python",
   "pygments_lexer": "ipython3",
   "version": "3.10.13"
  }
 },
 "nbformat": 4,
 "nbformat_minor": 2
}
